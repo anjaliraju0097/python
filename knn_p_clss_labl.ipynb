{
  "nbformat": 4,
  "nbformat_minor": 0,
  "metadata": {
    "colab": {
      "name": "knn_p_clss_labl.ipynb",
      "provenance": [],
      "authorship_tag": "ABX9TyPtkaSeGxyv+VyPPvi8f4Dz",
      "include_colab_link": true
    },
    "kernelspec": {
      "name": "python3",
      "display_name": "Python 3"
    },
    "language_info": {
      "name": "python"
    }
  },
  "cells": [
    {
      "cell_type": "markdown",
      "metadata": {
        "id": "view-in-github",
        "colab_type": "text"
      },
      "source": [
        "<a href=\"https://colab.research.google.com/github/anjaliraju0097/python/blob/main/knn_p_clss_labl.ipynb\" target=\"_parent\"><img src=\"https://colab.research.google.com/assets/colab-badge.svg\" alt=\"Open In Colab\"/></a>"
      ]
    },
    {
      "cell_type": "code",
      "execution_count": 1,
      "metadata": {
        "colab": {
          "base_uri": "https://localhost:8080/"
        },
        "id": "zE9beYkqlU9X",
        "outputId": "00ed08c3-e687-4f92-8513-e9ef8a07e22a"
      },
      "outputs": [
        {
          "output_type": "stream",
          "name": "stdout",
          "text": [
            "[1 1 0 0]\n"
          ]
        }
      ],
      "source": [
        "from sklearn.neighbors import KNeighborsClassifier\n",
        "x1=[7,7,3,1]\n",
        "x2=[7,4,4,4]\n",
        "target=['bad','bad','Good','Good']\n",
        "from sklearn import preprocessing\n",
        "#creating labelEncoder\n",
        "le = preprocessing.LabelEncoder()\n",
        "# Converting string labels into numbers.\n",
        "target_encoded=le.fit_transform(target)\n",
        "print(target_encoded)"
      ]
    },
    {
      "cell_type": "code",
      "source": [
        "features=zip(x1,x2)\n",
        "features = list(features)\n",
        "features"
      ],
      "metadata": {
        "colab": {
          "base_uri": "https://localhost:8080/"
        },
        "id": "WCfdQt2UleZ-",
        "outputId": "c0dd50ca-43ca-4b47-9205-b196f17f1ea0"
      },
      "execution_count": 2,
      "outputs": [
        {
          "output_type": "execute_result",
          "data": {
            "text/plain": [
              "[(7, 7), (7, 4), (3, 4), (1, 4)]"
            ]
          },
          "metadata": {},
          "execution_count": 2
        }
      ]
    },
    {
      "cell_type": "code",
      "source": [
        "knn = KNeighborsClassifier(n_neighbors=3)\n",
        "knn.fit(features,target)\n",
        "# Predict on dataset which model has not seen before\n",
        "print(knn.predict([[3,7]]))"
      ],
      "metadata": {
        "colab": {
          "base_uri": "https://localhost:8080/"
        },
        "id": "0i1rZKi_li0Q",
        "outputId": "9c34e513-701d-454b-bc8d-ecf80f161b10"
      },
      "execution_count": 3,
      "outputs": [
        {
          "output_type": "stream",
          "name": "stdout",
          "text": [
            "['Good']\n"
          ]
        }
      ]
    }
  ]
}